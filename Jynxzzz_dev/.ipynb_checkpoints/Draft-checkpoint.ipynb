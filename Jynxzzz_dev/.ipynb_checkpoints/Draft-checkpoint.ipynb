{
 "cells": [
  {
   "cell_type": "code",
   "execution_count": 50,
   "id": "22382cc1",
   "metadata": {},
   "outputs": [],
   "source": [
    "import torch\n",
    "import torch.nn as nn \n",
    "import torch.nn.functional as F "
   ]
  },
  {
   "cell_type": "code",
   "execution_count": 51,
   "id": "bee7d5f9",
   "metadata": {},
   "outputs": [
    {
     "data": {
      "text/plain": [
       "'2.3.1'"
      ]
     },
     "execution_count": 51,
     "metadata": {},
     "output_type": "execute_result"
    }
   ],
   "source": [
    "torch.__version__\n"
   ]
  },
  {
   "cell_type": "code",
   "execution_count": 52,
   "id": "98514165",
   "metadata": {},
   "outputs": [],
   "source": [
    "#hypyer parameters \n",
    "batch_size = 64\n",
    "block_size = 256\n",
    "max_iters = 5000\n",
    "\n",
    "eval_interval = 500\n",
    "learning_rate = 3e-4\n",
    "device ='cuda' if torch.cuda.is_available() else 'cpu'\n",
    "eval_iters = 200\n",
    "\n",
    "n_embd = 384\n",
    "n_head = 6 \n",
    "n_layer = 6\n",
    "dropout = 0.2"
   ]
  },
  {
   "cell_type": "code",
   "execution_count": 53,
   "id": "d45a5a90",
   "metadata": {},
   "outputs": [
    {
     "data": {
      "text/plain": [
       "<torch._C.Generator at 0x7f7c2754eb10>"
      ]
     },
     "execution_count": 53,
     "metadata": {},
     "output_type": "execute_result"
    }
   ],
   "source": [
    "torch.manual_seed(1337)"
   ]
  },
  {
   "cell_type": "code",
   "execution_count": 54,
   "id": "dd33e5b7",
   "metadata": {},
   "outputs": [],
   "source": [
    "with open('../input.txt', 'r', encoding='utf-8') as f:\n",
    "    text = f.read()"
   ]
  },
  {
   "cell_type": "code",
   "execution_count": 55,
   "id": "7cf68817",
   "metadata": {},
   "outputs": [
    {
     "data": {
      "text/plain": [
       "65"
      ]
     },
     "execution_count": 55,
     "metadata": {},
     "output_type": "execute_result"
    }
   ],
   "source": [
    "# crate vocabulary list (sorted)\n",
    "char = sorted(list(set(text)))\n",
    "vocab_size = len(char)\n",
    "vocab_size"
   ]
  },
  {
   "cell_type": "code",
   "execution_count": null,
   "id": "d6e5ddbe",
   "metadata": {},
   "outputs": [],
   "source": []
  },
  {
   "cell_type": "code",
   "execution_count": 56,
   "id": "8741961f",
   "metadata": {},
   "outputs": [],
   "source": [
    "stoi = {char: i for i, char in enumerate(char)}\n",
    "itos = {i: char for i, char in enumerate(char)}\n"
   ]
  },
  {
   "cell_type": "code",
   "execution_count": null,
   "id": "0cbb47bc",
   "metadata": {},
   "outputs": [],
   "source": []
  },
  {
   "cell_type": "code",
   "execution_count": 57,
   "id": "6ceeeb64",
   "metadata": {},
   "outputs": [],
   "source": [
    "encoding = lambda word: [stoi[i] for i in word]\n",
    "# use '' to concatenate str \n",
    "decoding = lambda number: ''.join(itos[i] for i in number)"
   ]
  },
  {
   "cell_type": "code",
   "execution_count": 58,
   "id": "95a28cb5",
   "metadata": {},
   "outputs": [],
   "source": [
    "#training ans tesing split \n",
    "data = torch.tensor(encoding(text), dtype=torch.int64)\n",
    "n = int(len(data) * 0.9)\n",
    "train_data = data[:n]\n",
    "val_data = data[n:]"
   ]
  },
  {
   "cell_type": "code",
   "execution_count": 59,
   "id": "93e106bd",
   "metadata": {},
   "outputs": [],
   "source": [
    "# Data loading \n",
    "# Batch in training and validation\n",
    "def get_batch(set_name):\n",
    "    data = (train_data if set_name == 'train' else  val_data)\n",
    "    ix = torch.randint(len(data) - block_size, (batch_size, ))\n",
    "    x = torch.stack([data[i: i+block_size] for i in ix])\n",
    "    y = torch.stack([data[i+1:i+block_size+1] for i in ix])\n",
    "    \n",
    "    x, y = x.to(device), y.to(device)\n",
    "    \n",
    "    return x, y"
   ]
  },
  {
   "cell_type": "code",
   "execution_count": null,
   "id": "d498d1a4",
   "metadata": {},
   "outputs": [],
   "source": []
  },
  {
   "cell_type": "code",
   "execution_count": 60,
   "id": "f9f330fe",
   "metadata": {},
   "outputs": [],
   "source": [
    "@torch.no_grad()\n",
    "def estimate_loss():\n",
    "    out = {}\n",
    "    model.eval()\n",
    "    for split in ['train', 'val']:\n",
    "        losses = torch.zeros(eval_iters)\n",
    "        for k in range(eval_iters):\n",
    "            X, Y = get_batch(split)\n",
    "            logits, loss = model(X, Y)\n",
    "            losses[k] = loss.item()\n",
    "        out[split] = losses.mean()\n",
    "    model.train()\n",
    "    return out \n",
    "        "
   ]
  },
  {
   "cell_type": "code",
   "execution_count": 61,
   "id": "1ed4546b",
   "metadata": {},
   "outputs": [],
   "source": [
    "class Head(nn.Module):\n",
    "    def __init__(self, head_size):\n",
    "        super().__init__()\n",
    "        self.key = nn.Linear(n_embd, head_size, bias=False)\n",
    "        self.query = nn.Linear(n_embd, head_size, bias=False)\n",
    "        self.value = nn.Linear(n_embd, head_size, bias=False)\n",
    "        self.register_buffer('tril', torch.tril(torch.ones(block_size, block_size)))\n",
    "        self.dropout = nn.Dropout(dropout)\n",
    "        \n",
    "    def forward(self, x):\n",
    "        B, T, C = x.shape\n",
    "#         X W + b \n",
    "        k = self.key(x)\n",
    "        q = self.query(x)\n",
    "        # attention score \n",
    "        wei = q @ k.transpose(-2, -1) * k.shape[-1] ** -0.5 # aiming to control it between 0 - 1 \n",
    "        wei = wei.masked_fill(self.tril[:T, :T] == 0, float('-inf'))\n",
    "        wei = F.softmax(wei, dim=-1)\n",
    "        wei = self.dropout(wei)\n",
    "        v = self.value(x)\n",
    "        # weighted sum ---? weights @ value (x)\n",
    "        out = wei @ v # (B, T, hs)\n",
    "        return out"
   ]
  },
  {
   "cell_type": "code",
   "execution_count": 62,
   "id": "826f83bb",
   "metadata": {},
   "outputs": [],
   "source": [
    "#multihead attention\n",
    "class MultiHeadAttention(nn.Module):\n",
    "    def __init__(self, num_heads, head_size):\n",
    "        super().__init_()\n",
    "        # define a group of heads (nn.ModuleList including multiple head instance)\n",
    "        self.heads = nn.ModuleList([Head(head_size)for _ in range(num_heads)])\n",
    "        \n",
    "        self.proj = nn.Linear(head_size * num_heads, n_embd) \n",
    "        self.dropout = nn.Dropout(dropout)\n",
    "        \n",
    "    def forward(self, x):\n",
    "        out = torcg.cat([h(x) for h in self.heads], dim=-1)\n",
    "        # here's how we make num_heads * head_size to -->>>>> n_embd \n",
    "        out = self.dropout(selfl.proj(out))"
   ]
  },
  {
   "cell_type": "code",
   "execution_count": 63,
   "id": "c22c7064",
   "metadata": {},
   "outputs": [],
   "source": [
    "# FeedForward \n",
    "class FeedForward(nn.Module):\n",
    "    def __init__(self, n_embd):\n",
    "        super().__init__()\n",
    "        self.net = nn.Sequential(\n",
    "            nn.Linear(n_embd, 4 * n_embd),\n",
    "            nn.ReLU(),\n",
    "            nn.Linear(4 * n_embd, n_embd),\n",
    "            nn.Dropout(dropoutp)\n",
    "        )\n",
    "    def forward(self, x):\n",
    "        return self.net(x)\n"
   ]
  },
  {
   "cell_type": "code",
   "execution_count": 64,
   "id": "107dd63c",
   "metadata": {},
   "outputs": [],
   "source": [
    "#leogo multihead + feedforward  --> one complete transformer block! \n",
    "class Block(nn.Module):\n",
    "    #transformer block \n",
    "    def __init__(self, n_embd, n_head):\n",
    "        super().__init__()\n",
    "        head_size = n_embd // n_head\n",
    "        self.sa = MultiHeadAttention(n_head, head_size)\n",
    "        self.ffwd = FeedForward(n_embd)\n",
    "        self.ln1 = nn.LayerNorm(n_embd)\n",
    "        self.ln2 = nn.LayerNorm(n_embd)\n",
    "        \n",
    "    def forward(self, x):\n",
    "        x = x + self.sa(self.ln1(x))\n",
    "        x = x + self.ffwd(self.ln2(x))\n",
    "        return x"
   ]
  },
  {
   "cell_type": "code",
   "execution_count": 65,
   "id": "d51a1233",
   "metadata": {},
   "outputs": [
    {
     "ename": "SyntaxError",
     "evalue": "incomplete input (1465324524.py, line 15)",
     "output_type": "error",
     "traceback": [
      "\u001b[0;36m  Cell \u001b[0;32mIn[65], line 15\u001b[0;36m\u001b[0m\n\u001b[0;31m    \u001b[0m\n\u001b[0m    ^\u001b[0m\n\u001b[0;31mSyntaxError\u001b[0m\u001b[0;31m:\u001b[0m incomplete input\n"
     ]
    }
   ],
   "source": [
    "class GPTLanguageModel(nn.Module):\n",
    "    def __init__(self):\n",
    "        super().__init__()\n",
    "        self.token_embedding_table = nn.Embedding(vocab_size, n_embd)\n",
    "        self.position_embedding_table = nn.Embedding(block_size, n_embd)\n",
    "        # unpacking then  Sequential can eat all of it!\n",
    "        self.blocks = nn.Sequential(*[Block(n_embd, n_head=n_head) for _ in range(n_layer)])\n",
    "        self.ln_f = nn.LayerNorm(n_emb)\n",
    "        self.lm_head = nn.Linear(n_embd, vocab_size)\n",
    "        \n",
    "        self.apply(self._ini_weights)\n",
    "        \n",
    "    def _ini_weights(self, module):\n",
    "        if isinstance(module, nn.Linear):\n",
    "            torch.nn.init.normal_(module.weight, mean=0.0, std=0.02)\n",
    "            if module.bias is not None:\n",
    "                torch.nn.init.zeros_(module.bias)\n",
    "        elif isinstancens(module, nn.Embedding):\n",
    "            torch.nn.init.normal_(module.weight, mean=0.0, std=0.02)\n",
    "    def forward(self, idx, target=None):\n",
    "        B, T = idx.shape \n",
    "        tok_emb = self.token_embedding_table(idx)\n",
    "        pos_emb = self.position_embedding_table(torch.arange(T, device=device))\n",
    "         x = tok_emb + pos_emb\n",
    "            x = self.blocks(x)\n",
    "            \n",
    "        \n",
    "        \n",
    "\n",
    "        \n",
    "        "
   ]
  },
  {
   "cell_type": "code",
   "execution_count": 125,
   "id": "bdae3bfb",
   "metadata": {},
   "outputs": [
    {
     "data": {
      "text/plain": [
       "<torch._C.Generator at 0x7f7c2754eb10>"
      ]
     },
     "execution_count": 125,
     "metadata": {},
     "output_type": "execute_result"
    }
   ],
   "source": [
    "max_char = 26 # vocab size\n",
    "batch_max = 3 # B\n",
    "predi_howmuch = 10 # each time you wanna how many word to train in each batch \n",
    "ea_wor_emb = 8 #each voc emb size \n",
    "torch.manual_seed(1222)\n"
   ]
  },
  {
   "cell_type": "code",
   "execution_count": 126,
   "id": "fa26a4e5",
   "metadata": {},
   "outputs": [
    {
     "name": "stdout",
     "output_type": "stream",
     "text": [
      "Embedding(26, 8)\n",
      "Embedding(10, 8)\n"
     ]
    }
   ],
   "source": [
    "word_embd = nn.Embedding(max_char, ea_wor_emb) # max 8 words, emb each word to 20 feature \n",
    "pos_embd = nn.Embedding(predi_howmuch, ea_wor_emb)\n",
    "print(word_embd)\n",
    "print(pos_embd)"
   ]
  },
  {
   "cell_type": "code",
   "execution_count": 130,
   "id": "5c17c163",
   "metadata": {},
   "outputs": [
    {
     "name": "stdout",
     "output_type": "stream",
     "text": [
      "tensor([[ 8, 24, 18, 15, 22,  5, 14,  4, 20, 12],\n",
      "        [13, 25,  5, 11, 24, 25, 21, 18,  7,  1],\n",
      "        [12, 22, 23, 15,  9,  4, 16, 15,  6, 18]])\n",
      "torch.Size([3, 10])\n"
     ]
    }
   ],
   "source": [
    "idx = torch.randint(max_char, (batch_max, predi_howmuch)) # 3 batch(try) 8 word max, each int number has its meanning (10 character ) \n",
    "print(idx)\n",
    "print(idx.shape)"
   ]
  },
  {
   "cell_type": "code",
   "execution_count": 136,
   "id": "ca3d5753",
   "metadata": {},
   "outputs": [
    {
     "name": "stdout",
     "output_type": "stream",
     "text": [
      "torch.Size([3, 10, 8])\n"
     ]
    },
    {
     "data": {
      "text/plain": [
       "torch.Size([10, 8])"
      ]
     },
     "execution_count": 136,
     "metadata": {},
     "output_type": "execute_result"
    }
   ],
   "source": [
    "char_emb = word_embd(idx)\n",
    "print(char_emb.shape)\n",
    "\n",
    "\n",
    "wor_loc = torch.arange(predi_howmuch)\n",
    "loc_emb = pos_embd(wor_loc)\n",
    "loc_emb.shape"
   ]
  },
  {
   "cell_type": "code",
   "execution_count": 143,
   "id": "948310f6",
   "metadata": {},
   "outputs": [
    {
     "data": {
      "text/plain": [
       "torch.Size([3, 10, 8])"
      ]
     },
     "execution_count": 143,
     "metadata": {},
     "output_type": "execute_result"
    }
   ],
   "source": [
    "(char_emb + loc_emb).shape"
   ]
  },
  {
   "cell_type": "code",
   "execution_count": null,
   "id": "522036c6",
   "metadata": {},
   "outputs": [],
   "source": []
  },
  {
   "cell_type": "code",
   "execution_count": null,
   "id": "8512a490",
   "metadata": {},
   "outputs": [],
   "source": []
  },
  {
   "cell_type": "code",
   "execution_count": null,
   "id": "3b2a42fb",
   "metadata": {},
   "outputs": [],
   "source": []
  },
  {
   "cell_type": "code",
   "execution_count": null,
   "id": "6a792cca",
   "metadata": {},
   "outputs": [],
   "source": []
  },
  {
   "cell_type": "code",
   "execution_count": null,
   "id": "18b71747",
   "metadata": {},
   "outputs": [],
   "source": []
  },
  {
   "cell_type": "code",
   "execution_count": 46,
   "id": "771e45f8",
   "metadata": {},
   "outputs": [],
   "source": [
    "# embedding x --> B, T, C\n"
   ]
  },
  {
   "cell_type": "code",
   "execution_count": null,
   "id": "79a7a266",
   "metadata": {},
   "outputs": [],
   "source": [
    "\n",
    "\n"
   ]
  },
  {
   "cell_type": "code",
   "execution_count": null,
   "id": "ec9239f9",
   "metadata": {},
   "outputs": [],
   "source": []
  },
  {
   "cell_type": "code",
   "execution_count": null,
   "id": "2fdde82f",
   "metadata": {},
   "outputs": [],
   "source": []
  },
  {
   "cell_type": "code",
   "execution_count": null,
   "id": "8a71d3e5",
   "metadata": {},
   "outputs": [],
   "source": []
  },
  {
   "cell_type": "code",
   "execution_count": null,
   "id": "42b51975",
   "metadata": {},
   "outputs": [],
   "source": [
    "\n"
   ]
  },
  {
   "cell_type": "code",
   "execution_count": null,
   "id": "435c11fa",
   "metadata": {},
   "outputs": [],
   "source": []
  },
  {
   "cell_type": "code",
   "execution_count": null,
   "id": "dd354e92",
   "metadata": {},
   "outputs": [],
   "source": [
    "\n"
   ]
  },
  {
   "cell_type": "code",
   "execution_count": null,
   "id": "09c54486",
   "metadata": {},
   "outputs": [],
   "source": []
  },
  {
   "cell_type": "code",
   "execution_count": null,
   "id": "a34e5f60",
   "metadata": {},
   "outputs": [],
   "source": []
  },
  {
   "cell_type": "code",
   "execution_count": null,
   "id": "e1c83095",
   "metadata": {},
   "outputs": [],
   "source": []
  },
  {
   "cell_type": "code",
   "execution_count": null,
   "id": "c864105b",
   "metadata": {},
   "outputs": [],
   "source": []
  },
  {
   "cell_type": "code",
   "execution_count": null,
   "id": "6b78161e",
   "metadata": {},
   "outputs": [],
   "source": []
  },
  {
   "cell_type": "code",
   "execution_count": null,
   "id": "174183b4",
   "metadata": {},
   "outputs": [],
   "source": []
  },
  {
   "cell_type": "code",
   "execution_count": null,
   "id": "e4d5fcd0",
   "metadata": {},
   "outputs": [],
   "source": []
  },
  {
   "cell_type": "code",
   "execution_count": null,
   "id": "d787392f",
   "metadata": {},
   "outputs": [],
   "source": []
  }
 ],
 "metadata": {
  "kernelspec": {
   "display_name": "Python 3 (ipykernel)",
   "language": "python",
   "name": "python3"
  },
  "language_info": {
   "codemirror_mode": {
    "name": "ipython",
    "version": 3
   },
   "file_extension": ".py",
   "mimetype": "text/x-python",
   "name": "python",
   "nbconvert_exporter": "python",
   "pygments_lexer": "ipython3",
   "version": "3.10.13"
  }
 },
 "nbformat": 4,
 "nbformat_minor": 5
}
