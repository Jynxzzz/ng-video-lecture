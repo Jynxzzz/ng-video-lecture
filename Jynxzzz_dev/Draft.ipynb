{
 "cells": [
  {
   "cell_type": "code",
   "execution_count": 50,
   "id": "22382cc1",
   "metadata": {},
   "outputs": [],
   "source": [
    "import torch\n",
    "import torch.nn as nn \n",
    "import torch.nn.functional as F "
   ]
  },
  {
   "cell_type": "code",
   "execution_count": 51,
   "id": "bee7d5f9",
   "metadata": {},
   "outputs": [
    {
     "data": {
      "text/plain": [
       "'2.3.1'"
      ]
     },
     "execution_count": 51,
     "metadata": {},
     "output_type": "execute_result"
    }
   ],
   "source": [
    "torch.__version__\n"
   ]
  },
  {
   "cell_type": "code",
   "execution_count": 52,
   "id": "98514165",
   "metadata": {},
   "outputs": [],
   "source": [
    "#hypyer parameters \n",
    "batch_size = 64\n",
    "block_size = 256\n",
    "max_iters = 5000\n",
    "\n",
    "eval_interval = 500\n",
    "learning_rate = 3e-4\n",
    "device ='cuda' if torch.cuda.is_available() else 'cpu'\n",
    "eval_iters = 200\n",
    "\n",
    "n_embd = 384\n",
    "n_head = 6 \n",
    "n_layer = 6\n",
    "dropout = 0.2"
   ]
  },
  {
   "cell_type": "code",
   "execution_count": 53,
   "id": "d45a5a90",
   "metadata": {},
   "outputs": [
    {
     "data": {
      "text/plain": [
       "<torch._C.Generator at 0x7f7c2754eb10>"
      ]
     },
     "execution_count": 53,
     "metadata": {},
     "output_type": "execute_result"
    }
   ],
   "source": [
    "torch.manual_seed(1337)"
   ]
  },
  {
   "cell_type": "code",
   "execution_count": 54,
   "id": "dd33e5b7",
   "metadata": {},
   "outputs": [],
   "source": [
    "with open('../input.txt', 'r', encoding='utf-8') as f:\n",
    "    text = f.read()"
   ]
  },
  {
   "cell_type": "code",
   "execution_count": 55,
   "id": "7cf68817",
   "metadata": {},
   "outputs": [
    {
     "data": {
      "text/plain": [
       "65"
      ]
     },
     "execution_count": 55,
     "metadata": {},
     "output_type": "execute_result"
    }
   ],
   "source": [
    "# crate vocabulary list (sorted)\n",
    "char = sorted(list(set(text)))\n",
    "vocab_size = len(char)\n",
    "vocab_size"
   ]
  },
  {
   "cell_type": "code",
   "execution_count": null,
   "id": "d6e5ddbe",
   "metadata": {},
   "outputs": [],
   "source": []
  },
  {
   "cell_type": "code",
   "execution_count": 56,
   "id": "8741961f",
   "metadata": {},
   "outputs": [],
   "source": [
    "stoi = {char: i for i, char in enumerate(char)}\n",
    "itos = {i: char for i, char in enumerate(char)}\n"
   ]
  },
  {
   "cell_type": "code",
   "execution_count": null,
   "id": "0cbb47bc",
   "metadata": {},
   "outputs": [],
   "source": []
  },
  {
   "cell_type": "code",
   "execution_count": 57,
   "id": "6ceeeb64",
   "metadata": {},
   "outputs": [],
   "source": [
    "encoding = lambda word: [stoi[i] for i in word]\n",
    "# use '' to concatenate str \n",
    "decoding = lambda number: ''.join(itos[i] for i in number)"
   ]
  },
  {
   "cell_type": "code",
   "execution_count": 58,
   "id": "95a28cb5",
   "metadata": {},
   "outputs": [],
   "source": [
    "#training ans tesing split \n",
    "data = torch.tensor(encoding(text), dtype=torch.int64)\n",
    "n = int(len(data) * 0.9)\n",
    "train_data = data[:n]\n",
    "val_data = data[n:]"
   ]
  },
  {
   "cell_type": "code",
   "execution_count": 59,
   "id": "93e106bd",
   "metadata": {},
   "outputs": [],
   "source": [
    "# Data loading \n",
    "# Batch in training and validation\n",
    "def get_batch(set_name):\n",
    "    data = (train_data if set_name == 'train' else  val_data)\n",
    "    ix = torch.randint(len(data) - block_size, (batch_size, ))\n",
    "    x = torch.stack([data[i: i+block_size] for i in ix])\n",
    "    y = torch.stack([data[i+1:i+block_size+1] for i in ix])\n",
    "    \n",
    "    x, y = x.to(device), y.to(device)\n",
    "    \n",
    "    return x, y"
   ]
  },
  {
   "cell_type": "code",
   "execution_count": null,
   "id": "d498d1a4",
   "metadata": {},
   "outputs": [],
   "source": []
  },
  {
   "cell_type": "code",
   "execution_count": 60,
   "id": "f9f330fe",
   "metadata": {},
   "outputs": [],
   "source": [
    "@torch.no_grad()\n",
    "def estimate_loss():\n",
    "    out = {}\n",
    "    model.eval()\n",
    "    for split in ['train', 'val']:\n",
    "        losses = torch.zeros(eval_iters)\n",
    "        for k in range(eval_iters):\n",
    "            X, Y = get_batch(split)\n",
    "            logits, loss = model(X, Y)\n",
    "            losses[k] = loss.item()\n",
    "        out[split] = losses.mean()\n",
    "    model.train()\n",
    "    return out \n",
    "        "
   ]
  },
  {
   "cell_type": "code",
   "execution_count": 61,
   "id": "1ed4546b",
   "metadata": {},
   "outputs": [],
   "source": [
    "class Head(nn.Module):\n",
    "    def __init__(self, head_size):\n",
    "        super().__init__()\n",
    "        self.key = nn.Linear(n_embd, head_size, bias=False)\n",
    "        self.query = nn.Linear(n_embd, head_size, bias=False)\n",
    "        self.value = nn.Linear(n_embd, head_size, bias=False)\n",
    "        self.register_buffer('tril', torch.tril(torch.ones(block_size, block_size)))\n",
    "        self.dropout = nn.Dropout(dropout)\n",
    "        \n",
    "    def forward(self, x):\n",
    "        B, T, C = x.shape\n",
    "#         X W + b \n",
    "        k = self.key(x)\n",
    "        q = self.query(x)\n",
    "        # attention score \n",
    "        wei = q @ k.transpose(-2, -1) * k.shape[-1] ** -0.5 # aiming to control it between 0 - 1 \n",
    "        wei = wei.masked_fill(self.tril[:T, :T] == 0, float('-inf'))\n",
    "        wei = F.softmax(wei, dim=-1)\n",
    "        wei = self.dropout(wei)\n",
    "        v = self.value(x)\n",
    "        # weighted sum ---? weights @ value (x)\n",
    "        out = wei @ v # (B, T, hs)\n",
    "        return out"
   ]
  },
  {
   "cell_type": "code",
   "execution_count": 62,
   "id": "826f83bb",
   "metadata": {},
   "outputs": [],
   "source": [
    "#multihead attention\n",
    "class MultiHeadAttention(nn.Module):\n",
    "    def __init__(self, num_heads, head_size):\n",
    "        super().__init_()\n",
    "        # define a group of heads (nn.ModuleList including multiple head instance)\n",
    "        self.heads = nn.ModuleList([Head(head_size)for _ in range(num_heads)])\n",
    "        \n",
    "        self.proj = nn.Linear(head_size * num_heads, n_embd) \n",
    "        self.dropout = nn.Dropout(dropout)\n",
    "        \n",
    "    def forward(self, x):\n",
    "        out = torcg.cat([h(x) for h in self.heads], dim=-1)\n",
    "        # here's how we make num_heads * head_size to -->>>>> n_embd \n",
    "        out = self.dropout(selfl.proj(out))"
   ]
  },
  {
   "cell_type": "code",
   "execution_count": 63,
   "id": "c22c7064",
   "metadata": {},
   "outputs": [],
   "source": [
    "# FeedForward \n",
    "class FeedForward(nn.Module):\n",
    "    def __init__(self, n_embd):\n",
    "        super().__init__()\n",
    "        self.net = nn.Sequential(\n",
    "            nn.Linear(n_embd, 4 * n_embd),\n",
    "            nn.ReLU(),\n",
    "            nn.Linear(4 * n_embd, n_embd),\n",
    "            nn.Dropout(dropoutp)\n",
    "        )\n",
    "    def forward(self, x):\n",
    "        return self.net(x)\n"
   ]
  },
  {
   "cell_type": "code",
   "execution_count": 64,
   "id": "107dd63c",
   "metadata": {},
   "outputs": [],
   "source": [
    "#leogo multihead + feedforward  --> one complete transformer block! \n",
    "class Block(nn.Module):\n",
    "    #transformer block \n",
    "    def __init__(self, n_embd, n_head):\n",
    "        super().__init__()\n",
    "        head_size = n_embd // n_head\n",
    "        self.sa = MultiHeadAttention(n_head, head_size)\n",
    "        self.ffwd = FeedForward(n_embd)\n",
    "        self.ln1 = nn.LayerNorm(n_embd)\n",
    "        self.ln2 = nn.LayerNorm(n_embd)\n",
    "        \n",
    "    def forward(self, x):\n",
    "        x = x + self.sa(self.ln1(x))\n",
    "        x = x + self.ffwd(self.ln2(x))\n",
    "        return x"
   ]
  },
  {
   "cell_type": "code",
   "execution_count": 65,
   "id": "d51a1233",
   "metadata": {},
   "outputs": [
    {
     "ename": "SyntaxError",
     "evalue": "incomplete input (1465324524.py, line 15)",
     "output_type": "error",
     "traceback": [
      "\u001b[0;36m  Cell \u001b[0;32mIn[65], line 15\u001b[0;36m\u001b[0m\n\u001b[0;31m    \u001b[0m\n\u001b[0m    ^\u001b[0m\n\u001b[0;31mSyntaxError\u001b[0m\u001b[0;31m:\u001b[0m incomplete input\n"
     ]
    }
   ],
   "source": [
    "class GPTLanguageModel(nn.Module):\n",
    "    def __init__(self):\n",
    "        super().__init__()\n",
    "        self.token_embedding_table = nn.Embedding(vocab_size, n_embd)\n",
    "        self.position_embedding_table = nn.Embedding(block_size, n_embd)\n",
    "        # unpacking then  Sequential can eat all of it!\n",
    "        self.blocks = nn.Sequential(*[Block(n_embd, n_head=n_head) for _ in range(n_layer)])\n",
    "        self.ln_f = nn.LayerNorm(n_emb)\n",
    "        self.lm_head = nn.Linear(n_embd, vocab_size)\n",
    "        \n",
    "        self.apply(self._ini_weights)\n",
    "        \n",
    "    def _ini_weights(self, module):\n",
    "        if isinstance(module, nn.Linear):\n",
    "            torch.nn.init.normal_(module.weight, mean=0.0, std=0.02)\n",
    "            if module.bias is not None:\n",
    "                torch.nn.init.zeros_(module.bias)\n",
    "        elif isinstancens(module, nn.Embedding):\n",
    "            torch.nn.init.normal_(module.weight, mean=0.0, std=0.02)\n",
    "    def forward(self, idx, target=None):\n",
    "        B, T = idx.shape \n",
    "        tok_emb = self.token_embedding_table(idx)\n",
    "        pos_emb = self.position_embedding_table(torch.arange(T, device=device))\n",
    "         x = tok_emb + pos_emb\n",
    "            \n",
    "        \n",
    "        \n",
    "        "
   ]
  },
  {
   "cell_type": "code",
   "execution_count": 104,
   "id": "bdae3bfb",
   "metadata": {},
   "outputs": [
    {
     "name": "stdout",
     "output_type": "stream",
     "text": [
      "tensor([[[0.4133, 0.0743, 0.4261, 0.0756],\n",
      "         [0.4052, 0.8919, 0.2820, 0.1234],\n",
      "         [0.0215, 0.5440, 0.1508, 0.9835]],\n",
      "\n",
      "        [[0.5190, 0.9077, 0.6784, 0.6193],\n",
      "         [0.6125, 0.4988, 0.8030, 0.7649],\n",
      "         [0.2671, 0.7841, 0.3953, 0.7965]]]) \n",
      "\n",
      "\n",
      " tensor([[0.0754, 0.9921, 0.4319, 0.4778],\n",
      "        [0.2967, 0.1423, 0.1599, 0.1825],\n",
      "        [0.5124, 0.7816, 0.0497, 0.8778]]) \n",
      "\n",
      "\n",
      " tensor([[[0.4888, 1.0663, 0.8580, 0.5534],\n",
      "         [0.7019, 1.0343, 0.4419, 0.3059],\n",
      "         [0.5339, 1.3256, 0.2005, 1.8613]],\n",
      "\n",
      "        [[0.5944, 1.8998, 1.1103, 1.0971],\n",
      "         [0.9092, 0.6412, 0.9629, 0.9474],\n",
      "         [0.7795, 1.5657, 0.4449, 1.6742]]]) \n",
      "\n",
      "\n",
      " torch.Size([2, 3, 4])\n"
     ]
    }
   ],
   "source": [
    "a = torch.empty(2, 3, 4)\n",
    "b = torch.empty(3, 4)\n",
    "torch.nn.init.uniform_(a, 0, 1)\n",
    "torch.nn.init.uniform_(b, 0, 1)\n",
    "print(a, '\\n'*3, b, '\\n'*3, a+b, '\\n'*3, (a+b).shape)"
   ]
  },
  {
   "cell_type": "code",
   "execution_count": 105,
   "id": "fa26a4e5",
   "metadata": {},
   "outputs": [
    {
     "name": "stdout",
     "output_type": "stream",
     "text": [
      "tensor([[[1., 1., 1., 1.],\n",
      "         [1., 1., 1., 1.],\n",
      "         [1., 1., 1., 1.]],\n",
      "\n",
      "        [[1., 1., 1., 1.],\n",
      "         [1., 1., 1., 1.],\n",
      "         [1., 1., 1., 1.]]]) \n",
      "\n",
      "\n",
      " tensor([[1., 1., 1., 1.],\n",
      "        [1., 1., 1., 1.],\n",
      "        [1., 1., 1., 1.]]) \n",
      "\n",
      "\n",
      " tensor([[[2., 2., 2., 2.],\n",
      "         [2., 2., 2., 2.],\n",
      "         [2., 2., 2., 2.]],\n",
      "\n",
      "        [[2., 2., 2., 2.],\n",
      "         [2., 2., 2., 2.],\n",
      "         [2., 2., 2., 2.]]]) \n",
      "\n",
      "\n",
      " torch.Size([2, 3, 4])\n"
     ]
    }
   ],
   "source": [
    "a = torch.ones(2, 3, 4)\n",
    "b = torch.ones(3, 4)\n",
    "print(a, '\\n'*3, b, '\\n'*3, a+b, '\\n'*3, (a+b).shape)"
   ]
  },
  {
   "cell_type": "code",
   "execution_count": null,
   "id": "5c17c163",
   "metadata": {},
   "outputs": [],
   "source": []
  },
  {
   "cell_type": "code",
   "execution_count": null,
   "id": "ca3d5753",
   "metadata": {},
   "outputs": [],
   "source": []
  },
  {
   "cell_type": "code",
   "execution_count": 92,
   "id": "948310f6",
   "metadata": {},
   "outputs": [
    {
     "name": "stdout",
     "output_type": "stream",
     "text": [
      "torch.Size([4, 5])\n",
      "tensor([[ 1.5377,  0.0980,  1.1364,  0.9033,  0.7364],\n",
      "        [-0.8446, -0.5388, -0.4207,  0.2035,  2.5754],\n",
      "        [-0.3707, -1.8258,  1.3161,  0.5602, -1.1064],\n",
      "        [-0.9140, -0.6755, -0.4562,  0.4358, -1.3870]],\n",
      "       grad_fn=<EmbeddingBackward0>)\n"
     ]
    }
   ],
   "source": [
    "jem = nn.Embedding(4, 5)  # T, emb_length\n",
    "T = 4\n",
    "jynxzz_pos = jem(torch.arange(T))\n",
    "print(jynxzz_pos.shape)\n",
    "print(jynxzz_pos)"
   ]
  },
  {
   "cell_type": "code",
   "execution_count": 93,
   "id": "522036c6",
   "metadata": {},
   "outputs": [
    {
     "data": {
      "text/plain": [
       "tensor([[-1.7444,  0.1363,  0.9441, -2.5530, -0.5702],\n",
       "        [ 0.9616,  0.3674, -0.9939, -2.2958,  1.3728],\n",
       "        [-1.6306, -1.3637, -1.3968, -1.0523, -1.0860],\n",
       "        [-0.2111,  2.0888, -0.2270, -1.0792, -0.7351]],\n",
       "       grad_fn=<EmbeddingBackward0>)"
      ]
     },
     "execution_count": 93,
     "metadata": {},
     "output_type": "execute_result"
    }
   ],
   "source": [
    "nn.Embedding(4, 5)(torch.arange(T))"
   ]
  },
  {
   "cell_type": "code",
   "execution_count": null,
   "id": "8512a490",
   "metadata": {},
   "outputs": [],
   "source": []
  },
  {
   "cell_type": "code",
   "execution_count": 97,
   "id": "3b2a42fb",
   "metadata": {},
   "outputs": [
    {
     "data": {
      "text/plain": [
       "torch.Size([4, 5])"
      ]
     },
     "execution_count": 97,
     "metadata": {},
     "output_type": "execute_result"
    }
   ],
   "source": [
    "jynxzz_pos.shape #(T, C)"
   ]
  },
  {
   "cell_type": "code",
   "execution_count": null,
   "id": "6a792cca",
   "metadata": {},
   "outputs": [],
   "source": []
  },
  {
   "cell_type": "code",
   "execution_count": null,
   "id": "18b71747",
   "metadata": {},
   "outputs": [],
   "source": []
  },
  {
   "cell_type": "code",
   "execution_count": 46,
   "id": "771e45f8",
   "metadata": {},
   "outputs": [],
   "source": [
    "# embedding x --> B, T, C\n"
   ]
  },
  {
   "cell_type": "code",
   "execution_count": null,
   "id": "79a7a266",
   "metadata": {},
   "outputs": [],
   "source": [
    "\n",
    "\n"
   ]
  },
  {
   "cell_type": "code",
   "execution_count": null,
   "id": "ec9239f9",
   "metadata": {},
   "outputs": [],
   "source": []
  },
  {
   "cell_type": "code",
   "execution_count": null,
   "id": "2fdde82f",
   "metadata": {},
   "outputs": [],
   "source": []
  },
  {
   "cell_type": "code",
   "execution_count": null,
   "id": "8a71d3e5",
   "metadata": {},
   "outputs": [],
   "source": []
  },
  {
   "cell_type": "code",
   "execution_count": null,
   "id": "42b51975",
   "metadata": {},
   "outputs": [],
   "source": [
    "\n"
   ]
  },
  {
   "cell_type": "code",
   "execution_count": null,
   "id": "435c11fa",
   "metadata": {},
   "outputs": [],
   "source": []
  },
  {
   "cell_type": "code",
   "execution_count": null,
   "id": "dd354e92",
   "metadata": {},
   "outputs": [],
   "source": [
    "\n"
   ]
  },
  {
   "cell_type": "code",
   "execution_count": null,
   "id": "09c54486",
   "metadata": {},
   "outputs": [],
   "source": []
  },
  {
   "cell_type": "code",
   "execution_count": null,
   "id": "a34e5f60",
   "metadata": {},
   "outputs": [],
   "source": []
  },
  {
   "cell_type": "code",
   "execution_count": null,
   "id": "e1c83095",
   "metadata": {},
   "outputs": [],
   "source": []
  },
  {
   "cell_type": "code",
   "execution_count": null,
   "id": "c864105b",
   "metadata": {},
   "outputs": [],
   "source": []
  },
  {
   "cell_type": "code",
   "execution_count": null,
   "id": "6b78161e",
   "metadata": {},
   "outputs": [],
   "source": []
  },
  {
   "cell_type": "code",
   "execution_count": null,
   "id": "174183b4",
   "metadata": {},
   "outputs": [],
   "source": []
  },
  {
   "cell_type": "code",
   "execution_count": null,
   "id": "e4d5fcd0",
   "metadata": {},
   "outputs": [],
   "source": []
  },
  {
   "cell_type": "code",
   "execution_count": null,
   "id": "d787392f",
   "metadata": {},
   "outputs": [],
   "source": []
  }
 ],
 "metadata": {
  "kernelspec": {
   "display_name": "Python 3 (ipykernel)",
   "language": "python",
   "name": "python3"
  },
  "language_info": {
   "codemirror_mode": {
    "name": "ipython",
    "version": 3
   },
   "file_extension": ".py",
   "mimetype": "text/x-python",
   "name": "python",
   "nbconvert_exporter": "python",
   "pygments_lexer": "ipython3",
   "version": "3.10.13"
  }
 },
 "nbformat": 4,
 "nbformat_minor": 5
}
