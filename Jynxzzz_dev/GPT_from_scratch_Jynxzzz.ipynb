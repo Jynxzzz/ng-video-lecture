{
 "cells": [
  {
   "cell_type": "code",
   "execution_count": 1,
   "metadata": {},
   "outputs": [],
   "source": [
    "import torch \n",
    "import torch.nn as nn \n",
    "from torch.nn import functional as F"
   ]
  },
  {
   "cell_type": "code",
   "execution_count": 2,
   "metadata": {},
   "outputs": [],
   "source": [
    "'''\n",
    "define hypterparameters\n",
    "'''\n",
    "batch_size = 64\n",
    "learning_rate = 3e-4\n",
    "\n",
    "# input size/number of neurons in input layer/maximum context length for predictions?\n",
    "block_size = 256\n",
    "\n",
    "# epochs/iterations \n",
    "max_iters = 5000\n",
    "\n",
    "# validation?\n",
    "# eval_interval = \n",
    "# eval_iters = \n",
    "\n",
    "\n",
    "\n",
    "#device\n",
    "device = 'cuda' if torch.cuda.is_available() else 'cpu'\n",
    "\n",
    "# number of workers \n",
    "# n_head = \n",
    "\n",
    "\n",
    "# layer \n",
    "n_layer = 6\n",
    "\n",
    "#dropout \n",
    "# dropout = "
   ]
  },
  {
   "cell_type": "code",
   "execution_count": 3,
   "metadata": {},
   "outputs": [
    {
     "data": {
      "text/plain": [
       "<torch._C.Generator at 0x7f2a801fcfb0>"
      ]
     },
     "execution_count": 3,
     "metadata": {},
     "output_type": "execute_result"
    }
   ],
   "source": [
    "'''\n",
    "seed\n",
    "'''\n",
    "torch.manual_seed(1337)"
   ]
  },
  {
   "cell_type": "code",
   "execution_count": 4,
   "metadata": {},
   "outputs": [],
   "source": [
    "# open txt file \n",
    "with open('../input.txt', mode='r', encoding='utf-8') as f:\n",
    "    text = f.read()\n",
    "    \n"
   ]
  },
  {
   "cell_type": "code",
   "execution_count": 5,
   "metadata": {},
   "outputs": [
    {
     "name": "stdout",
     "output_type": "stream",
     "text": [
      "First Citizen:\n",
      "Before we proceed any further, hear me speak.\n",
      "\n",
      "All:\n",
      "Speak, speak.\n",
      "\n",
      "First Citizen:\n",
      "You\n",
      "<class 'str'>\n"
     ]
    }
   ],
   "source": [
    "len(text)\n",
    "print(text[:100])\n",
    "print(type(text))"
   ]
  },
  {
   "cell_type": "code",
   "execution_count": 6,
   "metadata": {},
   "outputs": [
    {
     "name": "stdout",
     "output_type": "stream",
     "text": [
      "65\n"
     ]
    }
   ],
   "source": [
    "chars = sorted(list(set(text)))\n",
    "vocab_size = len(chars)\n",
    "print(vocab_size)"
   ]
  },
  {
   "cell_type": "code",
   "execution_count": 7,
   "metadata": {},
   "outputs": [
    {
     "name": "stdout",
     "output_type": "stream",
     "text": [
      "{'\\n': 0, ' ': 1, '!': 2, '$': 3, '&': 4, \"'\": 5, ',': 6, '-': 7, '.': 8, '3': 9, ':': 10, ';': 11, '?': 12, 'A': 13, 'B': 14, 'C': 15, 'D': 16, 'E': 17, 'F': 18, 'G': 19, 'H': 20, 'I': 21, 'J': 22, 'K': 23, 'L': 24, 'M': 25, 'N': 26, 'O': 27, 'P': 28, 'Q': 29, 'R': 30, 'S': 31, 'T': 32, 'U': 33, 'V': 34, 'W': 35, 'X': 36, 'Y': 37, 'Z': 38, 'a': 39, 'b': 40, 'c': 41, 'd': 42, 'e': 43, 'f': 44, 'g': 45, 'h': 46, 'i': 47, 'j': 48, 'k': 49, 'l': 50, 'm': 51, 'n': 52, 'o': 53, 'p': 54, 'q': 55, 'r': 56, 's': 57, 't': 58, 'u': 59, 'v': 60, 'w': 61, 'x': 62, 'y': 63, 'z': 64}\n",
      "{0: '\\n', 1: ' ', 2: '!', 3: '$', 4: '&', 5: \"'\", 6: ',', 7: '-', 8: '.', 9: '3', 10: ':', 11: ';', 12: '?', 13: 'A', 14: 'B', 15: 'C', 16: 'D', 17: 'E', 18: 'F', 19: 'G', 20: 'H', 21: 'I', 22: 'J', 23: 'K', 24: 'L', 25: 'M', 26: 'N', 27: 'O', 28: 'P', 29: 'Q', 30: 'R', 31: 'S', 32: 'T', 33: 'U', 34: 'V', 35: 'W', 36: 'X', 37: 'Y', 38: 'Z', 39: 'a', 40: 'b', 41: 'c', 42: 'd', 43: 'e', 44: 'f', 45: 'g', 46: 'h', 47: 'i', 48: 'j', 49: 'k', 50: 'l', 51: 'm', 52: 'n', 53: 'o', 54: 'p', 55: 'q', 56: 'r', 57: 's', 58: 't', 59: 'u', 60: 'v', 61: 'w', 62: 'x', 63: 'y', 64: 'z'}\n"
     ]
    }
   ],
   "source": [
    "'''\n",
    "encoding  decoding characters rules \n",
    "\n",
    "'''\n",
    "#embedding  word to vector /traj to vector\n",
    "\n",
    "\n",
    "#string to integer  (encoding)\n",
    "stoi = {w: i for i, w in enumerate(chars)}\n",
    "print(stoi)\n",
    "itos = {i: w for i, w in enumerate(chars)}\n",
    "print(itos)\n",
    "\n"
   ]
  },
  {
   "cell_type": "code",
   "execution_count": 10,
   "metadata": {},
   "outputs": [
    {
     "name": "stdout",
     "output_type": "stream",
     "text": [
      "[46, 43, 56, 43, 1, 61, 43, 1, 45, 53, 1, 48, 63, 52, 62, 64, 64, 64, 1, 39, 52, 42, 1, 58, 43, 43, 51, 53, 2]\n",
      "you stupid fucking cat!\n"
     ]
    }
   ],
   "source": [
    "'''\n",
    "encoding decoding sentences \n",
    "'''\n",
    "\n",
    "# take a sentense(string), output it's encoding (integers)\n",
    "\n",
    "\n",
    "#inverse, take its encoding for an sentense(integers), then decoding it as original characters (strings)\n",
    "\n",
    "# s in a txt sample, so it can be dealt with for loop because its iterable \n",
    "encode = lambda s: [stoi[c] for c in s]\n",
    "# l is a list of integers, output a string \n",
    "decode = lambda l: ''.join(itos[i] for i in l ) \n",
    "\n",
    "\n",
    "#test our encoding and decoding!\n",
    "jynxzzz = \"here we go jynxzzz and teemo!\"\n",
    "print(encode(jynxzzz))\n",
    "print(decode(encode(\"you stupid fucking cat!\")))"
   ]
  },
  {
   "cell_type": "code",
   "execution_count": null,
   "metadata": {},
   "outputs": [],
   "source": [
    "# encode entire text dataset and store it into a torch.Tensor \n"
   ]
  },
  {
   "cell_type": "code",
   "execution_count": null,
   "metadata": {},
   "outputs": [],
   "source": []
  }
 ],
 "metadata": {
  "kernelspec": {
   "display_name": "detection_task",
   "language": "python",
   "name": "python3"
  },
  "language_info": {
   "codemirror_mode": {
    "name": "ipython",
    "version": 3
   },
   "file_extension": ".py",
   "mimetype": "text/x-python",
   "name": "python",
   "nbconvert_exporter": "python",
   "pygments_lexer": "ipython3",
   "version": "3.10.13"
  }
 },
 "nbformat": 4,
 "nbformat_minor": 2
}
